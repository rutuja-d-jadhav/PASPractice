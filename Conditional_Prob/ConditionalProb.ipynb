{
 "cells": [
  {
   "cell_type": "markdown",
   "id": "5fabd5b1",
   "metadata": {},
   "source": [
    "test nb"
   ]
  },
  {
   "cell_type": "code",
   "execution_count": 3,
   "id": "d5e7b891",
   "metadata": {},
   "outputs": [],
   "source": [
    "#code cell\n",
    "import numpy as np"
   ]
  }
 ],
 "metadata": {
  "kernelspec": {
   "display_name": "rjpas (3.12.0)",
   "language": "python",
   "name": "python3"
  },
  "language_info": {
   "codemirror_mode": {
    "name": "ipython",
    "version": 3
   },
   "file_extension": ".py",
   "mimetype": "text/x-python",
   "name": "python",
   "nbconvert_exporter": "python",
   "pygments_lexer": "ipython3",
   "version": "3.12.0"
  }
 },
 "nbformat": 4,
 "nbformat_minor": 5
}
