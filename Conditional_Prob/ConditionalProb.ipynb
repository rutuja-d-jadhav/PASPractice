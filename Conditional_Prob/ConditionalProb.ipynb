{
 "cells": [
  {
   "cell_type": "markdown",
   "id": "5fabd5b1",
   "metadata": {},
   "source": [
    "test nb"
   ]
  },
  {
   "cell_type": "code",
   "execution_count": 4,
   "id": "d5e7b891",
   "metadata": {},
   "outputs": [
    {
     "data": {
      "text/plain": [
       "'np.genfromtxt will load data from the txt file at the url. \\nstype = str implies each value is stored as a string. \\ndelimiter = , indicates csv file\\ndata is basically a 2D np array with each row stored as a list\\nwithin a bigger list'"
      ]
     },
     "execution_count": 4,
     "metadata": {},
     "output_type": "execute_result"
    }
   ],
   "source": [
    "#code cell\n",
    "import numpy as np\n",
    "\n",
    "file_location = \"https://raw.githubusercontent.com/cfgranda/ps4ds/main/data/house-votes-84.data\"\n",
    "data = np.genfromtxt(file_location, dtype=str, delimiter=',') \n",
    "\n",
    "'''np.genfromtxt will load data from the txt file at the url. \n",
    "stype = str implies each value is stored as a string. \n",
    "delimiter = , indicates csv file\n",
    "data is basically a 2D np array with each row stored as a list\n",
    "within a bigger list'''\n",
    "\n"
   ]
  },
  {
   "cell_type": "code",
   "execution_count": 10,
   "id": "9fcc9045",
   "metadata": {},
   "outputs": [
    {
     "name": "stdout",
     "output_type": "stream",
     "text": [
      "Republican Yes Votes\n",
      "[ 31.  75.  22. 163. 157. 149.  39.  24.  19.  92.  21. 135. 136. 158.\n",
      "  14.  96.]\n",
      "Republican Total Votes\n",
      "[165. 148. 164. 165. 165. 166. 162. 157. 165. 165. 159. 155. 158. 161.\n",
      " 156. 146.]\n",
      "Democrat Yes Votes\n",
      "[156. 120. 231.  14.  55. 123. 200. 218. 188. 124. 129.  36.  73.  90.\n",
      " 160. 173.]\n",
      "Democrat Total Votes\n",
      "[258. 239. 260. 259. 255. 258. 259. 263. 248. 263. 255. 249. 252. 257.\n",
      " 251. 185.]\n"
     ]
    }
   ],
   "source": [
    "#create two matrices\n",
    "#count of all YES issues from reps (row 0) and demos (row 1) on all issues (n cols)\n",
    "#count of all total votes (exclude '?' )\n",
    "\n",
    "num_voters = data.shape[0] #no header column name row. so all rows rep a single voter\n",
    "num_issues = data.shape[1] - 1 #since first col specifies if voter is rep or demo\n",
    "\n",
    "yes_count_matrix = np.zeros((2, num_issues))\n",
    "total_votes_matrix = np.zeros((2, num_issues))\n",
    "n_repubs = 0\n",
    "n_demos = 0\n",
    "\n",
    "for i in range(num_voters):\n",
    "\n",
    "    if data[i][0] == 'republican':\n",
    "        n_repubs = 1\n",
    "        for j in range(1,num_issues+1):\n",
    "            if data[i][j] == 'y':\n",
    "                yes_count_matrix[0, j-1] += 1\n",
    "            if data[i][j] != '?':\n",
    "                total_votes_matrix[0,j-1] += 1\n",
    "\n",
    "    elif data[i][0] == 'democrat':\n",
    "        n_demos += 1\n",
    "        for j in range(1, num_issues+1):\n",
    "            if data[i][j] == 'y':\n",
    "                yes_count_matrix[1,j-1] += 1\n",
    "            if data[i][j] != '?':\n",
    "                total_votes_matrix[1,j-1] += 1\n",
    "\n",
    "\n",
    "print(\"Republican Yes Votes\")\n",
    "print(yes_count_matrix[0, : ])\n",
    "print(\"Republican Total Votes\")\n",
    "print(total_votes_matrix[0, : ])\n",
    "print('Democrat Yes Votes')\n",
    "print(yes_count_matrix[1,:])\n",
    "print('Democrat Total Votes')\n",
    "print(total_votes_matrix[1,:])\n",
    "\n"
   ]
  },
  {
   "cell_type": "code",
   "execution_count": 13,
   "id": "39ebeece",
   "metadata": {},
   "outputs": [
    {
     "name": "stdout",
     "output_type": "stream",
     "text": [
      "[[151.  21.]\n",
      " [ 88. 140.]]\n"
     ]
    }
   ],
   "source": [
    "#prob of issue\n",
    "\n",
    "def emp_prob(issue):\n",
    "    p = (yes_count_matrix[0,issue] + yes_count_matrix[1,issue])/ (total_votes_matrix[0,issue]+total_votes_matrix[1,issue])\n",
    "    return p\n",
    "\n",
    "\n",
    "def cond_prob(issue_1, issue_2):\n",
    "    votes = np.zeros((2,2))\n",
    "\n",
    "    for i in range(num_voters):\n",
    "\n",
    "        if data[i][issue_1+1] == 'y' and data[i][issue_2 +1] == 'y':\n",
    "            votes[0,0] +=1\n",
    "        if data[i][issue_1+1] == 'y' and data[i][issue_2 +1] == 'n':\n",
    "            votes[1,0] +=1\n",
    "        if data[i][issue_1+1] == 'n' and data[i][issue_2 +1] == 'y':\n",
    "            votes[0,1] +=1\n",
    "        if data[i][issue_1+1] == 'n' and data[i][issue_2 +1] == 'n':\n",
    "            votes[1,1] +=1\n",
    "\n",
    "    print(votes)\n",
    "\n",
    "votes12 = cond_prob(2,14)\n",
    "        \n"
   ]
  }
 ],
 "metadata": {
  "kernelspec": {
   "display_name": "rjpas (3.12.0)",
   "language": "python",
   "name": "python3"
  },
  "language_info": {
   "codemirror_mode": {
    "name": "ipython",
    "version": 3
   },
   "file_extension": ".py",
   "mimetype": "text/x-python",
   "name": "python",
   "nbconvert_exporter": "python",
   "pygments_lexer": "ipython3",
   "version": "3.12.0"
  }
 },
 "nbformat": 4,
 "nbformat_minor": 5
}
